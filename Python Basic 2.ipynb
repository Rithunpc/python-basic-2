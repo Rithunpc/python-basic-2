{
 "cells": [
  {
   "cell_type": "markdown",
   "id": "5fb42bbd",
   "metadata": {},
   "source": [
    "1St python Program"
   ]
  },
  {
   "cell_type": "code",
   "execution_count": 1,
   "id": "800ebf75",
   "metadata": {},
   "outputs": [
    {
     "name": "stdout",
     "output_type": "stream",
     "text": [
      "Hello My Viewers\n"
     ]
    }
   ],
   "source": [
    "print ('Hello My Viewers')"
   ]
  },
  {
   "cell_type": "markdown",
   "id": "4c559488",
   "metadata": {},
   "source": [
    "Python Variable \n",
    "\n",
    "Variable Declaration\n",
    "\n",
    "[23] # variable is declared as the value 5 is assigned to it .\n",
    "\n",
    "\n",
    "[24]"
   ]
  },
  {
   "cell_type": "code",
   "execution_count": 3,
   "id": "cce5cf06",
   "metadata": {
    "scrolled": true
   },
   "outputs": [
    {
     "data": {
      "text/plain": [
       "5"
      ]
     },
     "execution_count": 3,
     "metadata": {},
     "output_type": "execute_result"
    }
   ],
   "source": [
    "x = 5\n",
    "x\n",
    "\n",
    "\n",
    "\n"
   ]
  },
  {
   "cell_type": "code",
   "execution_count": 4,
   "id": "188dcfe8",
   "metadata": {},
   "outputs": [
    {
     "data": {
      "text/plain": [
       "100"
      ]
     },
     "execution_count": 4,
     "metadata": {},
     "output_type": "execute_result"
    }
   ],
   "source": [
    "xyz = 100\n",
    "xyz"
   ]
  },
  {
   "cell_type": "code",
   "execution_count": null,
   "id": "1cd6219e",
   "metadata": {},
   "outputs": [],
   "source": [
    "Data Types in Python \n",
    "\n",
    "Numberical data types\n",
    "\n",
    "1.integers\n",
    "2.Float\n",
    "3.Complex Numbers\n",
    "4.Boolean"
   ]
  },
  {
   "cell_type": "code",
   "execution_count": null,
   "id": "a8ee2d29",
   "metadata": {},
   "outputs": [],
   "source": [
    "# 1 . integer = are used to represent whole number values\n",
    "\n",
    "x = 1000\n",
    "b = 10000\n",
    "\n",
    "type(x)\n",
    "type(b)\n",
    "\n",
    "int"
   ]
  },
  {
   "cell_type": "code",
   "execution_count": null,
   "id": "7779b446",
   "metadata": {},
   "outputs": [],
   "source": [
    "# 2. Float = number are used to represent decimal point values.\n",
    "\n",
    "x = 100.10\n",
    "y = 13.13\n",
    "\n",
    "type(x)\n",
    "type(y)\n",
    "\n",
    "float"
   ]
  },
  {
   "cell_type": "code",
   "execution_count": null,
   "id": "0c52af28",
   "metadata": {},
   "outputs": [],
   "source": [
    "# 3. complex = number are used to represent imaginary values.\n",
    "\n",
    " z = 12+4j\n",
    "    type(z)\n",
    "    \n",
    "    \n",
    "    c= 3+6j\n",
    "    type(c)\n",
    "    \n",
    "    complex"
   ]
  },
  {
   "cell_type": "code",
   "execution_count": null,
   "id": "f3ba3a69",
   "metadata": {},
   "outputs": [],
   "source": [
    "# 4. Boolean = is used for categorical output ,since the output of boolean is either true or fasle.\n",
    "\n",
    "Boo = 9>7\n",
    "#Boo is the boolean variable\n",
    "\n",
    "type(Boo)\n",
    "# This output will be bool\n",
    "\n",
    "print(Boo)\n",
    "#this will print true."
   ]
  }
 ],
 "metadata": {
  "kernelspec": {
   "display_name": "Python 3 (ipykernel)",
   "language": "python",
   "name": "python3"
  },
  "language_info": {
   "codemirror_mode": {
    "name": "ipython",
    "version": 3
   },
   "file_extension": ".py",
   "mimetype": "text/x-python",
   "name": "python",
   "nbconvert_exporter": "python",
   "pygments_lexer": "ipython3",
   "version": "3.10.9"
  }
 },
 "nbformat": 4,
 "nbformat_minor": 5
}
